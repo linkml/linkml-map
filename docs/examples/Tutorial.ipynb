{
 "cells": [
  {
   "cell_type": "markdown",
   "source": [
    "# LinkML-Map tutorial\n",
    "\n",
    "This tutorial walks through basic programmatic use of the LinkML-Map framework.\n",
    "This is intended for Python developers - note that many of the operations here can also be performed\n",
    "at the command line."
   ],
   "metadata": {
    "collapsed": false
   },
   "id": "df75d53a3e91e573"
  },
  {
   "cell_type": "code",
   "execution_count": 1,
   "outputs": [],
   "source": [
    "import yaml"
   ],
   "metadata": {
    "collapsed": false,
    "ExecuteTime": {
     "end_time": "2024-04-11T02:31:25.287757Z",
     "start_time": "2024-04-11T02:31:25.192334Z"
    }
   },
   "id": "63a064b31f623bdd"
  },
  {
   "cell_type": "markdown",
   "source": [
    "## Creating an example schema\n",
    "\n",
    "We will use a LinkML SchemaBuilder object to progressively build up a schema, adding\n",
    "additional features as we go.\n",
    "\n",
    "We'll start with a simple `Person` schema, with a few single valued scalar slots:"
   ],
   "metadata": {
    "collapsed": false
   },
   "id": "e2cbd6b8994905f6"
  },
  {
   "cell_type": "code",
   "execution_count": 2,
   "outputs": [
    {
     "name": "stdout",
     "output_type": "stream",
     "text": [
      "name: test-schema\n",
      "id: http://example.org/test-schema\n",
      "imports:\n",
      "- linkml:types\n",
      "prefixes:\n",
      "  linkml: https://w3id.org/linkml/\n",
      "  test_schema: http://example.org/test-schema/\n",
      "default_prefix: test_schema\n",
      "default_range: string\n",
      "slots:\n",
      "  family_name:\n",
      "    range: string\n",
      "  given_name:\n",
      "    range: string\n",
      "  age_in_years:\n",
      "    range: integer\n",
      "  height_in_cm:\n",
      "    range: float\n",
      "classes:\n",
      "  Person:\n",
      "    slots:\n",
      "    - family_name\n",
      "    - given_name\n",
      "    - age_in_years\n",
      "    - height_in_cm\n"
     ]
    }
   ],
   "source": [
    "from linkml.utils.schema_builder import SchemaBuilder\n",
    "from linkml_runtime.linkml_model import SlotDefinition\n",
    "\n",
    "sb = SchemaBuilder()\n",
    "sb.add_class(\"Person\", slots=[SlotDefinition(\"family_name\", range=\"string\"), \n",
    "                              SlotDefinition(\"given_name\", range=\"string\"),\n",
    "                              SlotDefinition(\"age_in_years\", range=\"integer\"),\n",
    "                              SlotDefinition(\"height_in_cm\", range=\"float\"),\n",
    "                              ])\n",
    "sb.add_defaults()\n",
    "print(yaml.dump(sb.as_dict(), sort_keys=False))"
   ],
   "metadata": {
    "collapsed": false,
    "ExecuteTime": {
     "end_time": "2024-04-11T02:31:25.400218Z",
     "start_time": "2024-04-11T02:31:25.204882Z"
    }
   },
   "id": "ef2c60ef7fbcbe20"
  },
  {
   "cell_type": "markdown",
   "source": [
    "## Creating a Transformer Session object\n",
    "\n",
    "We will use a `Session` object which conveniently wraps a number of different capabilities;\n",
    "the first of these capabilities is to map (transform) data objects from one schema to another\n",
    "(implicit) schema using a *transformer specification*).\n",
    "\n",
    "Our initial transformer specification will be a trivial isomorphic one that:\n",
    "\n",
    "- maps the `Person` class to an `Individual` class\n",
    "- passes through `name` fields as-is\n",
    "- renames measurement fields (`age_in_years` and `height_in_cm` to `age` and `height`)"
   ],
   "metadata": {
    "collapsed": false
   },
   "id": "d4228629dd7e2ef2"
  },
  {
   "cell_type": "code",
   "execution_count": 3,
   "outputs": [],
   "source": [
    "from linkml_map.session import Session\n",
    "\n",
    "session = Session()\n",
    "session.set_source_schema(sb.as_dict())"
   ],
   "metadata": {
    "collapsed": false,
    "ExecuteTime": {
     "end_time": "2024-04-11T02:31:25.845223Z",
     "start_time": "2024-04-11T02:31:25.401087Z"
    }
   },
   "id": "a6257aa9e6ab021e"
  },
  {
   "cell_type": "code",
   "execution_count": 4,
   "outputs": [],
   "source": [
    "# Transformer specification (in YAML)\n",
    "session.set_object_transformer(\"\"\"\n",
    "class_derivations:\n",
    "  Individual:\n",
    "    populated_from: Person\n",
    "    slot_derivations:\n",
    "      family_name:\n",
    "        populated_from: family_name\n",
    "      given_name:\n",
    "        populated_from: given_name\n",
    "      age:\n",
    "        populated_from: age_in_years\n",
    "      height:\n",
    "        populated_from: height_in_cm\n",
    "\"\"\")"
   ],
   "metadata": {
    "collapsed": false,
    "ExecuteTime": {
     "end_time": "2024-04-11T02:31:25.931450Z",
     "start_time": "2024-04-11T02:31:25.846462Z"
    }
   },
   "id": "47b95e209790b423"
  },
  {
   "cell_type": "markdown",
   "source": [
    "## Visualizing transformer specifications\n",
    "\n",
    "We can visualize the transformer specification using graphviz:"
   ],
   "metadata": {
    "collapsed": false
   },
   "id": "8313d6acb588178e"
  },
  {
   "cell_type": "code",
   "execution_count": 5,
   "outputs": [
    {
     "data": {
      "image/svg+xml": "<?xml version=\"1.0\" encoding=\"UTF-8\" standalone=\"no\"?>\n<!DOCTYPE svg PUBLIC \"-//W3C//DTD SVG 1.1//EN\"\n \"http://www.w3.org/Graphics/SVG/1.1/DTD/svg11.dtd\">\n<!-- Generated by graphviz version 5.0.1 (20220820.1526)\n -->\n<!-- Pages: 1 -->\n<svg width=\"324pt\" height=\"121pt\"\n viewBox=\"0.00 0.00 324.00 121.00\" xmlns=\"http://www.w3.org/2000/svg\" xmlns:xlink=\"http://www.w3.org/1999/xlink\">\n<g id=\"graph0\" class=\"graph\" transform=\"scale(1 1) rotate(0) translate(4 117)\">\n<polygon fill=\"white\" stroke=\"none\" points=\"-4,4 -4,-117 320,-117 320,4 -4,4\"/>\n<!-- sourcePerson -->\n<g id=\"node1\" class=\"node\">\n<title>sourcePerson</title>\n<polygon fill=\"none\" stroke=\"black\" points=\"8.5,-87.5 8.5,-108.5 135.5,-108.5 135.5,-87.5 8.5,-87.5\"/>\n<text text-anchor=\"start\" x=\"52\" y=\"-95.3\" font-family=\"Times,serif\" font-weight=\"bold\" font-size=\"14.00\">Person</text>\n<polyline fill=\"none\" stroke=\"black\" points=\"8.5,-87.5 8.5,-66.5 135.5,-66.5 135.5,-87.5\"/>\n<text text-anchor=\"start\" x=\"14.5\" y=\"-73.3\" font-family=\"Times,serif\" font-size=\"14.00\">family_name : string</text>\n<polyline fill=\"none\" stroke=\"black\" points=\"8.5,-66.5 8.5,-45.5 135.5,-45.5 135.5,-66.5\"/>\n<text text-anchor=\"start\" x=\"17.5\" y=\"-52.3\" font-family=\"Times,serif\" font-size=\"14.00\">given_name : string</text>\n<polyline fill=\"none\" stroke=\"black\" points=\"8.5,-45.5 8.5,-24.5 135.5,-24.5 135.5,-45.5\"/>\n<text text-anchor=\"start\" x=\"11.5\" y=\"-31.3\" font-family=\"Times,serif\" font-size=\"14.00\">age_in_years : integer</text>\n<polyline fill=\"none\" stroke=\"black\" points=\"8.5,-24.5 8.5,-3.5 135.5,-3.5 135.5,-24.5\"/>\n<text text-anchor=\"start\" x=\"16\" y=\"-10.3\" font-family=\"Times,serif\" font-size=\"14.00\">height_in_cm : float</text>\n</g>\n<!-- targetIndividual -->\n<g id=\"node2\" class=\"node\">\n<title>targetIndividual</title>\n<polygon fill=\"none\" stroke=\"black\" points=\"187.5,-87.5 187.5,-108.5 308.5,-108.5 308.5,-87.5 187.5,-87.5\"/>\n<text text-anchor=\"start\" x=\"217.5\" y=\"-95.3\" font-family=\"Times,serif\" font-weight=\"bold\" font-size=\"14.00\">Individual</text>\n<polyline fill=\"none\" stroke=\"black\" points=\"187.5,-87.5 187.5,-66.5 308.5,-66.5 308.5,-87.5\"/>\n<text text-anchor=\"start\" x=\"190.5\" y=\"-73.3\" font-family=\"Times,serif\" font-size=\"14.00\">family_name : string</text>\n<polyline fill=\"none\" stroke=\"black\" points=\"187.5,-66.5 187.5,-45.5 308.5,-45.5 308.5,-66.5\"/>\n<text text-anchor=\"start\" x=\"193.5\" y=\"-52.3\" font-family=\"Times,serif\" font-size=\"14.00\">given_name : string</text>\n<polyline fill=\"none\" stroke=\"black\" points=\"187.5,-45.5 187.5,-24.5 308.5,-24.5 308.5,-45.5\"/>\n<text text-anchor=\"start\" x=\"214\" y=\"-31.3\" font-family=\"Times,serif\" font-size=\"14.00\">age : integer</text>\n<polyline fill=\"none\" stroke=\"black\" points=\"187.5,-24.5 187.5,-3.5 308.5,-3.5 308.5,-24.5\"/>\n<text text-anchor=\"start\" x=\"213\" y=\"-10.3\" font-family=\"Times,serif\" font-size=\"14.00\">height : float</text>\n</g>\n<!-- sourcePerson&#45;&gt;targetIndividual -->\n<g id=\"edge1\" class=\"edge\">\n<title>sourcePerson:family_name&#45;&gt;targetIndividual:family_name</title>\n<path fill=\"none\" stroke=\"black\" d=\"M136.5,-77.5C154.9,-77.5 161.88,-77.5 176.35,-77.5\"/>\n<polygon fill=\"black\" stroke=\"black\" points=\"176.5,-81 186.5,-77.5 176.5,-74 176.5,-81\"/>\n</g>\n<!-- sourcePerson&#45;&gt;targetIndividual -->\n<g id=\"edge2\" class=\"edge\">\n<title>sourcePerson:given_name&#45;&gt;targetIndividual:given_name</title>\n<path fill=\"none\" stroke=\"black\" d=\"M136.5,-55.5C154.9,-55.5 161.88,-55.5 176.35,-55.5\"/>\n<polygon fill=\"black\" stroke=\"black\" points=\"176.5,-59 186.5,-55.5 176.5,-52 176.5,-59\"/>\n</g>\n<!-- sourcePerson&#45;&gt;targetIndividual -->\n<g id=\"edge3\" class=\"edge\">\n<title>sourcePerson:age_in_years&#45;&gt;targetIndividual:age</title>\n<path fill=\"none\" stroke=\"black\" d=\"M136.5,-34.5C154.9,-34.5 161.88,-34.5 176.35,-34.5\"/>\n<polygon fill=\"black\" stroke=\"black\" points=\"176.5,-38 186.5,-34.5 176.5,-31 176.5,-38\"/>\n</g>\n<!-- sourcePerson&#45;&gt;targetIndividual -->\n<g id=\"edge4\" class=\"edge\">\n<title>sourcePerson:height_in_cm&#45;&gt;targetIndividual:height</title>\n<path fill=\"none\" stroke=\"black\" d=\"M136.5,-13.5C154.9,-13.5 161.88,-13.5 176.35,-13.5\"/>\n<polygon fill=\"black\" stroke=\"black\" points=\"176.5,-17 186.5,-13.5 176.5,-10 176.5,-17\"/>\n</g>\n</g>\n</svg>\n",
      "text/plain": "<graphviz.graphs.Digraph at 0x107a4f6d0>"
     },
     "execution_count": 5,
     "metadata": {},
     "output_type": "execute_result"
    }
   ],
   "source": [
    "session.graphviz()"
   ],
   "metadata": {
    "collapsed": false,
    "ExecuteTime": {
     "end_time": "2024-04-11T02:31:26.282142Z",
     "start_time": "2024-04-11T02:31:25.933036Z"
    }
   },
   "id": "1c623cdc3c1cfbca"
  },
  {
   "cell_type": "markdown",
   "source": [
    "## Transforming objects\n",
    "\n",
    "We'll next make a simple `Person` object. Note that for simplicity we are specifying this\n",
    "using a Python dictionary. The framework also works with objects instantiating either\n",
    "Pydantic or Dataclasses classes (use the `transform_object` method instead of `transform`)."
   ],
   "metadata": {
    "collapsed": false
   },
   "id": "a15707b9cd2d3db5"
  },
  {
   "cell_type": "code",
   "execution_count": 6,
   "outputs": [
    {
     "data": {
      "text/plain": "{'family_name': 'Doe', 'given_name': 'Jane', 'age': 42, 'height': 180.0}"
     },
     "execution_count": 6,
     "metadata": {},
     "output_type": "execute_result"
    }
   ],
   "source": [
    "obj = {\n",
    "        \"given_name\": \"Jane\",\n",
    "        \"family_name\": \"Doe\",\n",
    "        \"age_in_years\": 42,\n",
    "        \"height_in_cm\": 180.0,\n",
    "    }\n",
    "session.transform(obj)"
   ],
   "metadata": {
    "collapsed": false,
    "ExecuteTime": {
     "end_time": "2024-04-11T02:31:26.287545Z",
     "start_time": "2024-04-11T02:31:26.283103Z"
    }
   },
   "id": "9f4d1fc4ca97f80c"
  },
  {
   "cell_type": "markdown",
   "source": [
    "This does what we expect - it renames the two fields, but leaves all values intact.\n",
    "\n",
    "Note that because we use using dictionaries here, the renaming of the class has no effect,\n",
    "as this is implicit with JSON/dictionaries.\n",
    "\n",
    "TODO: docs on type designator fields\n",
    "\n",
    "For command line users, the same thing can be achieved with the `map-data` command."
   ],
   "metadata": {
    "collapsed": false
   },
   "id": "b3826284a497d04e"
  },
  {
   "cell_type": "markdown",
   "source": [
    "## Deriving target schemas\n",
    "\n",
    "LinkML-Transformer is intended as a *declarative* framework, in contrast to writing Python\n",
    "transformation code. This allows tools to introspect mappings and perform other kinds of inference.\n",
    "An example of this is *deriving the (implicit) target schema*\n",
    "\n",
    "Here we use the `target_schema` method on the session object to derive the target schema:"
   ],
   "metadata": {
    "collapsed": false
   },
   "id": "d6aa71d062e96aa1"
  },
  {
   "cell_type": "code",
   "execution_count": 7,
   "outputs": [
    {
     "name": "stdout",
     "output_type": "stream",
     "text": [
      "name: test-schema-derived\n",
      "id: http://example.org/test-schema-derived\n",
      "imports:\n",
      "- linkml:types\n",
      "prefixes:\n",
      "  linkml:\n",
      "    prefix_prefix: linkml\n",
      "    prefix_reference: https://w3id.org/linkml/\n",
      "  test_schema:\n",
      "    prefix_prefix: test_schema\n",
      "    prefix_reference: http://example.org/test-schema/\n",
      "default_prefix: http://example.org/test-schema-derived/\n",
      "default_range: string\n",
      "classes:\n",
      "  Individual:\n",
      "    name: Individual\n",
      "    attributes:\n",
      "      family_name:\n",
      "        name: family_name\n",
      "        domain_of:\n",
      "        - Person\n",
      "        range: string\n",
      "      given_name:\n",
      "        name: given_name\n",
      "        domain_of:\n",
      "        - Person\n",
      "        range: string\n",
      "      age:\n",
      "        name: age\n",
      "        domain_of:\n",
      "        - Person\n",
      "        range: integer\n",
      "      height:\n",
      "        name: height\n",
      "        domain_of:\n",
      "        - Person\n",
      "        range: float\n"
     ]
    }
   ],
   "source": [
    "from linkml_runtime.dumpers import yaml_dumper\n",
    "\n",
    "print(yaml_dumper.dumps(session.target_schema))"
   ],
   "metadata": {
    "collapsed": false,
    "ExecuteTime": {
     "end_time": "2024-04-11T02:31:26.292850Z",
     "start_time": "2024-04-11T02:31:26.285236Z"
    }
   },
   "id": "687912c18bf6752"
  },
  {
   "cell_type": "markdown",
   "source": [
    "As expected, this is isomorphic to the original (source) schema, with fields and classes renamed."
   ],
   "metadata": {
    "collapsed": false
   },
   "id": "2c89abbd8e298981"
  },
  {
   "cell_type": "markdown",
   "source": [
    "## Using Expressions\n",
    "\n",
    "In addition to renaming fields, we can derive field values via evaluation of function *expressions*.\n",
    "\n",
    "You are encouraged to follow the subset of Python defined by the LinkML expression language. This provides\n",
    "both safety, and declarativity. However, if you need\n",
    "to, you can include arbitrary Python code, provided you configure the session to allow this.\n",
    "\n",
    "We'll keep the original schema, and will provide a new Transformer specification, \n",
    "giving an example of both string manipulation functions and arithmetic functions; the latter\n",
    "perform unit conversions (later on we will see more flexible and declarative ways to perform unit conversions).\n",
    "\n"
   ],
   "metadata": {
    "collapsed": false
   },
   "id": "4562b534b6f23910"
  },
  {
   "cell_type": "code",
   "execution_count": 8,
   "outputs": [],
   "source": [
    "\n",
    "session.set_object_transformer(\"\"\"\n",
    "class_derivations:\n",
    "  Individual:\n",
    "    populated_from: Person\n",
    "    slot_derivations:\n",
    "      name:\n",
    "        expr: \"{given_name} + ' ' + {family_name}\"\n",
    "        description: Concatenating given and family names\n",
    "          note this is a bad assumption for names in general,\n",
    "          this is just for demonstration\n",
    "      age_in_months:\n",
    "        expr: age_in_years * 12\n",
    "      height_in_meters:\n",
    "        expr: height_in_cm / 100\n",
    "\"\"\")\n"
   ],
   "metadata": {
    "collapsed": false,
    "ExecuteTime": {
     "end_time": "2024-04-11T02:31:26.333138Z",
     "start_time": "2024-04-11T02:31:26.301179Z"
    }
   },
   "id": "789a7b6535ab410f"
  },
  {
   "cell_type": "markdown",
   "source": [
    "Note that when we visualize this specification, dotted lines are shown indicating a relationship\n",
    "between source and target that is different from direct copy:"
   ],
   "metadata": {
    "collapsed": false
   },
   "id": "e02eaa2cde3172c8"
  },
  {
   "cell_type": "code",
   "execution_count": 9,
   "outputs": [
    {
     "data": {
      "image/svg+xml": "<?xml version=\"1.0\" encoding=\"UTF-8\" standalone=\"no\"?>\n<!DOCTYPE svg PUBLIC \"-//W3C//DTD SVG 1.1//EN\"\n \"http://www.w3.org/Graphics/SVG/1.1/DTD/svg11.dtd\">\n<!-- Generated by graphviz version 5.0.1 (20220820.1526)\n -->\n<!-- Pages: 1 -->\n<svg width=\"346pt\" height=\"122pt\"\n viewBox=\"0.00 0.00 346.00 121.50\" xmlns=\"http://www.w3.org/2000/svg\" xmlns:xlink=\"http://www.w3.org/1999/xlink\">\n<g id=\"graph0\" class=\"graph\" transform=\"scale(1 1) rotate(0) translate(4 117.5)\">\n<polygon fill=\"white\" stroke=\"none\" points=\"-4,4 -4,-117.5 342,-117.5 342,4 -4,4\"/>\n<!-- sourcePerson -->\n<g id=\"node1\" class=\"node\">\n<title>sourcePerson</title>\n<polygon fill=\"none\" stroke=\"black\" points=\"8.5,-88 8.5,-109 135.5,-109 135.5,-88 8.5,-88\"/>\n<text text-anchor=\"start\" x=\"52\" y=\"-95.8\" font-family=\"Times,serif\" font-weight=\"bold\" font-size=\"14.00\">Person</text>\n<polyline fill=\"none\" stroke=\"black\" points=\"8.5,-88 8.5,-67 135.5,-67 135.5,-88\"/>\n<text text-anchor=\"start\" x=\"14.5\" y=\"-73.8\" font-family=\"Times,serif\" font-size=\"14.00\">family_name : string</text>\n<polyline fill=\"none\" stroke=\"black\" points=\"8.5,-67 8.5,-46 135.5,-46 135.5,-67\"/>\n<text text-anchor=\"start\" x=\"17.5\" y=\"-52.8\" font-family=\"Times,serif\" font-size=\"14.00\">given_name : string</text>\n<polyline fill=\"none\" stroke=\"black\" points=\"8.5,-46 8.5,-25 135.5,-25 135.5,-46\"/>\n<text text-anchor=\"start\" x=\"11.5\" y=\"-31.8\" font-family=\"Times,serif\" font-size=\"14.00\">age_in_years : integer</text>\n<polyline fill=\"none\" stroke=\"black\" points=\"8.5,-25 8.5,-4 135.5,-4 135.5,-25\"/>\n<text text-anchor=\"start\" x=\"16\" y=\"-10.8\" font-family=\"Times,serif\" font-size=\"14.00\">height_in_cm : float</text>\n</g>\n<!-- targetIndividual -->\n<g id=\"node2\" class=\"node\">\n<title>targetIndividual</title>\n<polygon fill=\"none\" stroke=\"black\" points=\"187.5,-67 187.5,-88 330.5,-88 330.5,-67 187.5,-67\"/>\n<text text-anchor=\"start\" x=\"228.5\" y=\"-74.8\" font-family=\"Times,serif\" font-weight=\"bold\" font-size=\"14.00\">Individual</text>\n<polyline fill=\"none\" stroke=\"black\" points=\"187.5,-67 187.5,-46 330.5,-46 330.5,-67\"/>\n<text text-anchor=\"start\" x=\"222.5\" y=\"-52.8\" font-family=\"Times,serif\" font-size=\"14.00\">name : string</text>\n<polyline fill=\"none\" stroke=\"black\" points=\"187.5,-46 187.5,-25 330.5,-25 330.5,-46\"/>\n<text text-anchor=\"start\" x=\"196\" y=\"-31.8\" font-family=\"Times,serif\" font-size=\"14.00\">age_in_months : string</text>\n<polyline fill=\"none\" stroke=\"black\" points=\"187.5,-25 187.5,-4 330.5,-4 330.5,-25\"/>\n<text text-anchor=\"start\" x=\"190.5\" y=\"-10.8\" font-family=\"Times,serif\" font-size=\"14.00\">height_in_meters : string</text>\n</g>\n<!-- sourcePerson&#45;&gt;targetIndividual -->\n<g id=\"edge1\" class=\"edge\">\n<title>sourcePerson:given_name&#45;&gt;targetIndividual:name</title>\n<path fill=\"none\" stroke=\"black\" stroke-dasharray=\"5,2\" d=\"M136.5,-56C154.91,-56 161.87,-56.69 176.35,-56.92\"/>\n<polygon fill=\"black\" stroke=\"black\" points=\"176.47,-60.42 186.5,-57 176.53,-53.42 176.47,-60.42\"/>\n</g>\n<!-- sourcePerson&#45;&gt;targetIndividual -->\n<g id=\"edge2\" class=\"edge\">\n<title>sourcePerson:family_name&#45;&gt;targetIndividual:name</title>\n<path fill=\"none\" stroke=\"black\" stroke-dasharray=\"5,2\" d=\"M136.5,-78C156.65,-78 161.21,-63.33 176.24,-58.51\"/>\n<polygon fill=\"black\" stroke=\"black\" points=\"177.12,-61.92 186.5,-57 176.1,-54.99 177.12,-61.92\"/>\n</g>\n<!-- sourcePerson&#45;&gt;targetIndividual -->\n<g id=\"edge3\" class=\"edge\">\n<title>sourcePerson:age_in_years&#45;&gt;targetIndividual:age_in_months</title>\n<path fill=\"none\" stroke=\"black\" stroke-dasharray=\"5,2\" d=\"M136.5,-35C154.9,-35 161.88,-35 176.35,-35\"/>\n<polygon fill=\"black\" stroke=\"black\" points=\"176.5,-38.5 186.5,-35 176.5,-31.5 176.5,-38.5\"/>\n</g>\n<!-- sourcePerson&#45;&gt;targetIndividual -->\n<g id=\"edge4\" class=\"edge\">\n<title>sourcePerson:height_in_cm&#45;&gt;targetIndividual:height_in_meters</title>\n<path fill=\"none\" stroke=\"black\" stroke-dasharray=\"5,2\" d=\"M136.5,-14C154.9,-14 161.88,-14 176.35,-14\"/>\n<polygon fill=\"black\" stroke=\"black\" points=\"176.5,-17.5 186.5,-14 176.5,-10.5 176.5,-17.5\"/>\n</g>\n</g>\n</svg>\n",
      "text/plain": "<graphviz.graphs.Digraph at 0x107bc3070>"
     },
     "execution_count": 9,
     "metadata": {},
     "output_type": "execute_result"
    }
   ],
   "source": [
    "session.graphviz()"
   ],
   "metadata": {
    "collapsed": false,
    "ExecuteTime": {
     "end_time": "2024-04-11T02:31:26.637567Z",
     "start_time": "2024-04-11T02:31:26.326951Z"
    }
   },
   "id": "2a18ccb5d7dc469b"
  },
  {
   "cell_type": "markdown",
   "source": [
    "Now we'll transform the same object as before, and see the results:"
   ],
   "metadata": {
    "collapsed": false
   },
   "id": "f7019db8d391ab97"
  },
  {
   "cell_type": "code",
   "execution_count": 10,
   "outputs": [
    {
     "data": {
      "text/plain": "{'name': 'Jane Doe', 'age_in_months': 504, 'height_in_meters': 1.8}"
     },
     "execution_count": 10,
     "metadata": {},
     "output_type": "execute_result"
    }
   ],
   "source": [
    "session.transform(obj)"
   ],
   "metadata": {
    "collapsed": false,
    "ExecuteTime": {
     "end_time": "2024-04-11T02:31:26.639446Z",
     "start_time": "2024-04-11T02:31:26.636456Z"
    }
   },
   "id": "5e20e98e2b23751f"
  },
  {
   "cell_type": "markdown",
   "source": [
    "As expected, we concatenated the name fields, and converted the age and height fields to different units.\n",
    "\n",
    "Let's take a look at the derived schema for this new transformation:"
   ],
   "metadata": {
    "collapsed": false
   },
   "id": "ad9fd0f70178fd26"
  },
  {
   "cell_type": "code",
   "execution_count": 11,
   "outputs": [
    {
     "name": "stdout",
     "output_type": "stream",
     "text": [
      "name: test-schema-derived\n",
      "id: http://example.org/test-schema-derived\n",
      "imports:\n",
      "- linkml:types\n",
      "prefixes:\n",
      "  linkml:\n",
      "    prefix_prefix: linkml\n",
      "    prefix_reference: https://w3id.org/linkml/\n",
      "  test_schema:\n",
      "    prefix_prefix: test_schema\n",
      "    prefix_reference: http://example.org/test-schema/\n",
      "default_prefix: http://example.org/test-schema-derived/\n",
      "default_range: string\n",
      "classes:\n",
      "  Individual:\n",
      "    name: Individual\n",
      "    attributes:\n",
      "      name:\n",
      "        name: name\n",
      "      age_in_months:\n",
      "        name: age_in_months\n",
      "      height_in_meters:\n",
      "        name: height_in_meters\n"
     ]
    }
   ],
   "source": [
    "print(yaml_dumper.dumps(session.target_schema))"
   ],
   "metadata": {
    "collapsed": false,
    "ExecuteTime": {
     "end_time": "2024-04-11T02:31:26.644551Z",
     "start_time": "2024-04-11T02:31:26.642034Z"
    }
   },
   "id": "7c1f7efef1836364"
  },
  {
   "cell_type": "markdown",
   "source": [
    "Note that at this time, deriving ranges using expressions is not supported, so the two measurement fields\n",
    "are erroneously typed as having the `default_range` of `string`. However, in principle, if you use the\n",
    "linkml subset of Python it should be possible to infer the range of the derived field, and this may be added\n",
    "in future versions. Currently the tool chain is at an early stage of development."
   ],
   "metadata": {
    "collapsed": false
   },
   "id": "e87b7f45dc137a68"
  },
  {
   "cell_type": "markdown",
   "source": [
    "## Unit conversions\n",
    "\n",
    "Next we will look at a different way of doing unit conversions. The LinkML specification allows\n",
    "schemas to explicitly declare the units of slots, so let's modify our schema to do this, adding\n",
    "a UCUM code for our `height_in_cm` slot:"
   ],
   "metadata": {
    "collapsed": false
   },
   "id": "ff3d20924263ec15"
  },
  {
   "cell_type": "code",
   "execution_count": 12,
   "outputs": [
    {
     "name": "stdout",
     "output_type": "stream",
     "text": [
      "name: test-schema\n",
      "id: http://example.org/test-schema\n",
      "imports:\n",
      "- linkml:types\n",
      "prefixes:\n",
      "  linkml: https://w3id.org/linkml/\n",
      "  test_schema: http://example.org/test-schema/\n",
      "default_prefix: test_schema\n",
      "default_range: string\n",
      "slots:\n",
      "  family_name:\n",
      "    range: string\n",
      "  given_name:\n",
      "    range: string\n",
      "  age_in_years:\n",
      "    range: integer\n",
      "  height_in_cm:\n",
      "    range: float\n",
      "    unit:\n",
      "      ucum_code: cm\n",
      "classes:\n",
      "  Person:\n",
      "    slots:\n",
      "    - family_name\n",
      "    - given_name\n",
      "    - age_in_years\n",
      "    - height_in_cm\n"
     ]
    }
   ],
   "source": [
    "from linkml_runtime.linkml_model.units import UnitOfMeasure\n",
    "sb.schema.slots['height_in_cm'].unit = UnitOfMeasure(ucum_code='cm')\n",
    "session.set_source_schema(sb.as_dict())\n",
    "print(yaml.dump(sb.as_dict(), sort_keys=False))"
   ],
   "metadata": {
    "collapsed": false,
    "ExecuteTime": {
     "end_time": "2024-04-11T02:31:26.651494Z",
     "start_time": "2024-04-11T02:31:26.649509Z"
    }
   },
   "id": "65a5ce5d97e27f76"
  },
  {
   "cell_type": "markdown",
   "source": [
    "## Adding target_unit to transformer specification\n",
    "\n",
    "We will create a new transformer specification, focusing on the `height_in_cm` field. We will\n",
    "transform this into a `height_in_meters` field, and will use the `target_unit` field to specify\n",
    "the target unit."
   ],
   "metadata": {
    "collapsed": false
   },
   "id": "c5cf59ec9ac3148e"
  },
  {
   "cell_type": "code",
   "execution_count": 13,
   "outputs": [],
   "source": [
    "session.set_object_transformer(\"\"\"\n",
    "class_derivations:\n",
    "  Individual:\n",
    "    populated_from: Person\n",
    "    slot_derivations:\n",
    "      name:\n",
    "        expr: \"{given_name} + ' ' + {family_name}\"\n",
    "      height_in_meters:\n",
    "        populated_from: height_in_cm\n",
    "        unit_conversion:\n",
    "          target_unit: m\n",
    "\"\"\")"
   ],
   "metadata": {
    "collapsed": false,
    "ExecuteTime": {
     "end_time": "2024-04-11T02:31:26.697189Z",
     "start_time": "2024-04-11T02:31:26.662647Z"
    }
   },
   "id": "bc99bad97970b1b7"
  },
  {
   "cell_type": "code",
   "execution_count": 14,
   "outputs": [
    {
     "data": {
      "text/plain": "{'name': 'Jane Doe', 'height_in_meters': 1.8}"
     },
     "execution_count": 14,
     "metadata": {},
     "output_type": "execute_result"
    }
   ],
   "source": [
    "session.transform(obj)"
   ],
   "metadata": {
    "collapsed": false,
    "ExecuteTime": {
     "end_time": "2024-04-11T02:31:26.793669Z",
     "start_time": "2024-04-11T02:31:26.682118Z"
    }
   },
   "id": "831b444d9c47e0ea"
  },
  {
   "cell_type": "markdown",
   "source": [
    "## Units in derived schema\n",
    "\n",
    "Next we'll look at the derived target schema, and as expected we see that it has inferred\n",
    "the target unit for the `height_in_meters` field:"
   ],
   "metadata": {
    "collapsed": false
   },
   "id": "6f37087c6dfc30ef"
  },
  {
   "cell_type": "code",
   "execution_count": 15,
   "outputs": [
    {
     "name": "stdout",
     "output_type": "stream",
     "text": [
      "name: test-schema-derived\n",
      "id: http://example.org/test-schema-derived\n",
      "imports:\n",
      "- linkml:types\n",
      "prefixes:\n",
      "  linkml:\n",
      "    prefix_prefix: linkml\n",
      "    prefix_reference: https://w3id.org/linkml/\n",
      "  test_schema:\n",
      "    prefix_prefix: test_schema\n",
      "    prefix_reference: http://example.org/test-schema/\n",
      "default_prefix: http://example.org/test-schema-derived/\n",
      "default_range: string\n",
      "classes:\n",
      "  Individual:\n",
      "    name: Individual\n",
      "    attributes:\n",
      "      name:\n",
      "        name: name\n",
      "      height_in_meters:\n",
      "        name: height_in_meters\n",
      "        domain_of:\n",
      "        - Person\n",
      "        range: float\n",
      "        unit:\n",
      "          ucum_code: m\n"
     ]
    }
   ],
   "source": [
    "print(yaml_dumper.dumps(session.target_schema))\n"
   ],
   "metadata": {
    "collapsed": false,
    "ExecuteTime": {
     "end_time": "2024-04-11T02:31:26.799169Z",
     "start_time": "2024-04-11T02:31:26.794539Z"
    }
   },
   "id": "b589e0e95550962d"
  },
  {
   "cell_type": "markdown",
   "source": [
    "## Tabular serialization"
   ],
   "metadata": {
    "collapsed": false
   },
   "id": "8f4c4cb125aade0b"
  },
  {
   "cell_type": "code",
   "execution_count": 16,
   "outputs": [],
   "source": [
    "slot = sb.add_slot(\"aliases\", multivalued=True, range=\"string\", replace_if_present=True)"
   ],
   "metadata": {
    "collapsed": false,
    "ExecuteTime": {
     "end_time": "2024-04-11T02:31:26.800538Z",
     "start_time": "2024-04-11T02:31:26.798420Z"
    }
   },
   "id": "f492b27c0f0fbf88"
  },
  {
   "cell_type": "code",
   "execution_count": 17,
   "outputs": [],
   "source": [
    "sb.schema.classes['Person'].slots.append(slot.name)"
   ],
   "metadata": {
    "collapsed": false,
    "ExecuteTime": {
     "end_time": "2024-04-11T02:31:26.805051Z",
     "start_time": "2024-04-11T02:31:26.801378Z"
    }
   },
   "id": "3ac3f93ab8561300"
  },
  {
   "cell_type": "code",
   "execution_count": 18,
   "outputs": [],
   "source": [
    "session.set_source_schema(sb.as_dict())"
   ],
   "metadata": {
    "collapsed": false,
    "ExecuteTime": {
     "end_time": "2024-04-11T02:31:26.838303Z",
     "start_time": "2024-04-11T02:31:26.808019Z"
    }
   },
   "id": "84262d357323f76e"
  },
  {
   "cell_type": "code",
   "execution_count": 19,
   "outputs": [],
   "source": [
    "session.set_object_transformer(\"\"\"\n",
    "class_derivations:\n",
    "  Individual:\n",
    "    populated_from: Person\n",
    "    slot_derivations:\n",
    "      family_name:\n",
    "        populated_from: family_name\n",
    "      given_name:\n",
    "        populated_from: given_name\n",
    "      age:\n",
    "        populated_from: age_in_years\n",
    "      height:\n",
    "        populated_from: height_in_cm\n",
    "      aliases:\n",
    "        populated_from: aliases\n",
    "        stringification:\n",
    "          delimiter: '|'\n",
    "\"\"\")    "
   ],
   "metadata": {
    "collapsed": false,
    "ExecuteTime": {
     "end_time": "2024-04-11T02:31:26.874680Z",
     "start_time": "2024-04-11T02:31:26.810139Z"
    }
   },
   "id": "2f282430f48e13c0"
  },
  {
   "cell_type": "code",
   "execution_count": 20,
   "outputs": [
    {
     "data": {
      "text/plain": "{'family_name': 'Doe',\n 'given_name': 'Jane',\n 'age': 42,\n 'height': 180.0,\n 'aliases': 'Jane|Janie|Janey'}"
     },
     "execution_count": 20,
     "metadata": {},
     "output_type": "execute_result"
    }
   ],
   "source": [
    "obj = {\n",
    "        \"given_name\": \"Jane\",\n",
    "        \"family_name\": \"Doe\",\n",
    "        \"age_in_years\": 42,\n",
    "        \"height_in_cm\": 180.0,\n",
    "        \"aliases\": [\"Jane\", \"Janie\", \"Janey\"]\n",
    "    }\n",
    "flattened = session.transform(obj)\n",
    "flattened"
   ],
   "metadata": {
    "collapsed": false,
    "ExecuteTime": {
     "end_time": "2024-04-11T02:31:26.885950Z",
     "start_time": "2024-04-11T02:31:26.875371Z"
    }
   },
   "id": "fdd23ae82909770e"
  },
  {
   "cell_type": "markdown",
   "source": [
    "this can easily be serialized to a CSV/TSV"
   ],
   "metadata": {
    "collapsed": false
   },
   "id": "c5174dcbf7dd0c43"
  },
  {
   "cell_type": "markdown",
   "source": [
    "## Reverse transform\n",
    "\n",
    "If a transform does not contain one-way functions,\n",
    "it can be *reversed*.\n",
    "\n",
    "In this case, reversing the transform allows us to map\n",
    "from the tabular form back to the richer original representation."
   ],
   "metadata": {
    "collapsed": false
   },
   "id": "fae8392b02526408"
  },
  {
   "cell_type": "code",
   "execution_count": 21,
   "outputs": [
    {
     "data": {
      "text/plain": "{'family_name': 'Doe',\n 'given_name': 'Jane',\n 'age_in_years': 42,\n 'height_in_cm': 180.0,\n 'aliases': ['Jane', 'Janie', 'Janey']}"
     },
     "execution_count": 21,
     "metadata": {},
     "output_type": "execute_result"
    }
   ],
   "source": [
    "session.reverse_transform(flattened)"
   ],
   "metadata": {
    "collapsed": false,
    "ExecuteTime": {
     "end_time": "2024-04-11T02:31:26.917491Z",
     "start_time": "2024-04-11T02:31:26.890611Z"
    }
   },
   "id": "e8c1c3f98081d38"
  },
  {
   "cell_type": "code",
   "execution_count": 21,
   "outputs": [],
   "source": [],
   "metadata": {
    "collapsed": false,
    "ExecuteTime": {
     "end_time": "2024-04-11T02:31:26.917800Z",
     "start_time": "2024-04-11T02:31:26.897056Z"
    }
   },
   "id": "ee14ace4b1c7d256"
  }
 ],
 "metadata": {
  "kernelspec": {
   "display_name": "Python 3",
   "language": "python",
   "name": "python3"
  },
  "language_info": {
   "codemirror_mode": {
    "name": "ipython",
    "version": 2
   },
   "file_extension": ".py",
   "mimetype": "text/x-python",
   "name": "python",
   "nbconvert_exporter": "python",
   "pygments_lexer": "ipython2",
   "version": "2.7.6"
  }
 },
 "nbformat": 4,
 "nbformat_minor": 5
}
