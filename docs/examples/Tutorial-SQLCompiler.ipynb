{
 "cells": [
  {
   "cell_type": "markdown",
   "source": [
    "# LinkML-Map tutorial: Compiling to SQL\n",
    "\n",
    "This tutorial walks through use of the SQL compiler"
   ],
   "metadata": {
    "collapsed": false
   },
   "id": "df75d53a3e91e573"
  },
  {
   "cell_type": "code",
   "execution_count": 1,
   "outputs": [],
   "source": [
    "import yaml"
   ],
   "metadata": {
    "collapsed": false,
    "ExecuteTime": {
     "end_time": "2024-05-02T02:30:02.090658Z",
     "start_time": "2024-05-02T02:30:02.056825Z"
    }
   },
   "id": "63a064b31f623bdd"
  },
  {
   "cell_type": "markdown",
   "source": [
    "## Creating an example schema\n",
    "\n",
    "We will use a LinkML SchemaBuilder object to progressively build up a schema, adding\n",
    "additional features as we go.\n",
    "\n",
    "We'll start with a simple `Person` schema, with a few single valued scalar slots:"
   ],
   "metadata": {
    "collapsed": false
   },
   "id": "e2cbd6b8994905f6"
  },
  {
   "cell_type": "code",
   "execution_count": 2,
   "outputs": [
    {
     "name": "stdout",
     "output_type": "stream",
     "text": [
      "name: test-schema\n",
      "id: http://example.org/test-schema\n",
      "imports:\n",
      "- linkml:types\n",
      "prefixes:\n",
      "  linkml: https://w3id.org/linkml/\n",
      "  test_schema: http://example.org/test-schema/\n",
      "default_prefix: test_schema\n",
      "default_range: string\n",
      "slots:\n",
      "  family_name:\n",
      "    range: string\n",
      "  given_name:\n",
      "    range: string\n",
      "  age_in_years:\n",
      "    range: integer\n",
      "  height_in_cm:\n",
      "    range: float\n",
      "classes:\n",
      "  Person:\n",
      "    slots:\n",
      "    - family_name\n",
      "    - given_name\n",
      "    - age_in_years\n",
      "    - height_in_cm\n"
     ]
    }
   ],
   "source": [
    "from linkml.utils.schema_builder import SchemaBuilder\n",
    "from linkml_runtime.linkml_model import SlotDefinition\n",
    "\n",
    "sb = SchemaBuilder()\n",
    "sb.add_class(\"Person\", slots=[SlotDefinition(\"family_name\", range=\"string\"), \n",
    "                              SlotDefinition(\"given_name\", range=\"string\"),\n",
    "                              SlotDefinition(\"age_in_years\", range=\"integer\"),\n",
    "                              SlotDefinition(\"height_in_cm\", range=\"float\"),\n",
    "                              ])\n",
    "sb.add_defaults()\n",
    "print(yaml.dump(sb.as_dict(), sort_keys=False))"
   ],
   "metadata": {
    "collapsed": false,
    "ExecuteTime": {
     "end_time": "2024-05-02T02:30:02.502346Z",
     "start_time": "2024-05-02T02:30:02.076600Z"
    }
   },
   "id": "ef2c60ef7fbcbe20"
  },
  {
   "cell_type": "markdown",
   "source": [
    "## Creating a Transformer Session object\n",
    "\n",
    "We will use a `Session` object which conveniently wraps a number of different capabilities;\n",
    "the first of these capabilities is to map (transform) data objects from one schema to another\n",
    "(implicit) schema using a *transformer specification*).\n",
    "\n",
    "Our initial transformer specification will be a trivial isomorphic one that:\n",
    "\n",
    "- maps the `Person` class to an `Individual` class\n",
    "- passes through `name` fields as-is\n",
    "- renames measurement fields (`age_in_years` and `height_in_cm` to `age` and `height`)"
   ],
   "metadata": {
    "collapsed": false
   },
   "id": "d4228629dd7e2ef2"
  },
  {
   "cell_type": "code",
   "execution_count": 3,
   "outputs": [],
   "source": [
    "from linkml_map.session import Session\n",
    "\n",
    "session = Session()\n",
    "session.set_source_schema(sb.as_dict())"
   ],
   "metadata": {
    "collapsed": false,
    "ExecuteTime": {
     "end_time": "2024-05-02T02:30:08.124308Z",
     "start_time": "2024-05-02T02:30:07.628565Z"
    }
   },
   "id": "a6257aa9e6ab021e"
  },
  {
   "cell_type": "code",
   "execution_count": 4,
   "outputs": [],
   "source": [
    "# Transformer specification (in YAML)\n",
    "session.set_object_transformer(\"\"\"\n",
    "class_derivations:\n",
    "  Individual:\n",
    "    populated_from: Person\n",
    "    slot_derivations:\n",
    "      family_name:\n",
    "        populated_from: family_name\n",
    "      given_name:\n",
    "        populated_from: given_name\n",
    "      age:\n",
    "        populated_from: age_in_years\n",
    "      height:\n",
    "        populated_from: height_in_cm\n",
    "\"\"\")"
   ],
   "metadata": {
    "collapsed": false,
    "ExecuteTime": {
     "end_time": "2024-05-02T02:30:09.067897Z",
     "start_time": "2024-05-02T02:30:08.979545Z"
    }
   },
   "id": "47b95e209790b423"
  },
  {
   "cell_type": "markdown",
   "source": [
    "## Compiling target schema to SQL INSERTs\n",
    "\n",
    "The LinkML-Map framework can infer the target schema from the mapping.\n",
    "We will take the inferred schema and write SQL INSERT statements for it.\n"
   ],
   "metadata": {
    "collapsed": false
   },
   "id": "85bf0dfa91d9003"
  },
  {
   "cell_type": "code",
   "execution_count": 11,
   "outputs": [],
   "source": [
    "from linkml_map.compiler.sql_compiler import SQLCompiler\n",
    "\n",
    "compiler = SQLCompiler(source_schemaview=session.source_schemaview)"
   ],
   "metadata": {
    "collapsed": false,
    "ExecuteTime": {
     "end_time": "2024-05-02T02:34:48.555908Z",
     "start_time": "2024-05-02T02:34:48.549282Z"
    }
   },
   "id": "f1538dfa61775402"
  },
  {
   "cell_type": "code",
   "execution_count": 13,
   "outputs": [
    {
     "name": "stdout",
     "output_type": "stream",
     "text": [
      "CREATE TABLE IF NOT EXISTS Individual (\n",
      "  family_name TEXT,\n",
      "  given_name TEXT,\n",
      "  age INTEGER,\n",
      "  height REAL\n",
      ");\n"
     ]
    }
   ],
   "source": [
    "print(compiler.create_target_ddl(session.transformer_specification))"
   ],
   "metadata": {
    "collapsed": false,
    "ExecuteTime": {
     "end_time": "2024-05-02T02:35:03.185958Z",
     "start_time": "2024-05-02T02:35:03.175807Z"
    }
   },
   "id": "f5de99c1cd54eae4"
  },
  {
   "cell_type": "code",
   "execution_count": 14,
   "outputs": [
    {
     "name": "stdout",
     "output_type": "stream",
     "text": [
      "CREATE TABLE IF NOT EXISTS Person (\n",
      "  family_name TEXT,\n",
      "  given_name TEXT,\n",
      "  age_in_years INTEGER,\n",
      "  height_in_cm REAL\n",
      ");\n"
     ]
    }
   ],
   "source": [
    "print(compiler.create_ddl(session.source_schemaview))"
   ],
   "metadata": {
    "collapsed": false,
    "ExecuteTime": {
     "end_time": "2024-05-02T02:35:42.555450Z",
     "start_time": "2024-05-02T02:35:42.550999Z"
    }
   },
   "id": "d776b301cdd1e079"
  },
  {
   "cell_type": "code",
   "execution_count": 15,
   "outputs": [
    {
     "name": "stdout",
     "output_type": "stream",
     "text": [
      "INSERT INTO Individual SELECT \n",
      "  family_name AS family_name, \n",
      "  given_name AS given_name, \n",
      "  age AS age_in_years, \n",
      "  height AS height_in_cm FROM Individual;\n"
     ]
    }
   ],
   "source": [
    "compiled = compiler.compile(session.transformer_specification)\n",
    "print(compiled.serialization)"
   ],
   "metadata": {
    "collapsed": false,
    "ExecuteTime": {
     "end_time": "2024-05-02T02:35:43.059893Z",
     "start_time": "2024-05-02T02:35:43.057856Z"
    }
   },
   "id": "95b6adb322799f1f"
  },
  {
   "cell_type": "code",
   "execution_count": 17,
   "outputs": [
    {
     "name": "stdout",
     "output_type": "stream",
     "text": [
      "CREATE TABLE IF NOT EXISTS Individual \n",
      "  family_name AS family_name, \n",
      "  given_name AS given_name, \n",
      "  age AS age_in_years, \n",
      "  height AS height_in_cm); FROM Individual;\n"
     ]
    }
   ],
   "source": [
    "compiler.new_table_when_transforming = True\n",
    "compiled = compiler.compile(session.transformer_specification)\n",
    "print(compiled.serialization)"
   ],
   "metadata": {
    "collapsed": false,
    "ExecuteTime": {
     "end_time": "2024-05-02T02:36:33.889820Z",
     "start_time": "2024-05-02T02:36:33.873095Z"
    }
   },
   "id": "c993b563f59d8fe1"
  },
  {
   "cell_type": "markdown",
   "source": [],
   "metadata": {
    "collapsed": false
   },
   "id": "8313d6acb588178e"
  },
  {
   "cell_type": "code",
   "execution_count": 11,
   "outputs": [],
   "source": [
    "import duckdb"
   ],
   "metadata": {
    "collapsed": false,
    "ExecuteTime": {
     "end_time": "2024-03-22T17:13:13.511531Z",
     "start_time": "2024-03-22T17:13:10.763461Z"
    }
   },
   "id": "1c623cdc3c1cfbca"
  },
  {
   "cell_type": "code",
   "execution_count": null,
   "outputs": [],
   "source": [
    "con = duckdb.connect(database=':memory:')\n"
   ],
   "metadata": {
    "collapsed": false
   },
   "id": "564d2bd8387d7c77"
  }
 ],
 "metadata": {
  "kernelspec": {
   "display_name": "Python 3",
   "language": "python",
   "name": "python3"
  },
  "language_info": {
   "codemirror_mode": {
    "name": "ipython",
    "version": 2
   },
   "file_extension": ".py",
   "mimetype": "text/x-python",
   "name": "python",
   "nbconvert_exporter": "python",
   "pygments_lexer": "ipython2",
   "version": "2.7.6"
  }
 },
 "nbformat": 4,
 "nbformat_minor": 5
}
